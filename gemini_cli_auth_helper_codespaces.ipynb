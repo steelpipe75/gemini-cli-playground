{
 "cells": [
  {
   "cell_type": "markdown",
   "metadata": {
    "id": "xxuC23t6K2iP"
   },
   "source": [
    "# GitHub Codespaces で Gemini-CLI のブラウザユーザー認証お助けノートブック\n",
    "\n",
    "ターミナルで\n",
    "``` shell\n",
    "gemini -d\n",
    "```\n",
    "を実行\n",
    "\n",
    "![gemini起動](./image/gemini起動.png)\n",
    "\n",
    "表示の設定等を選択する　（カーソルキー/tabキーで選択、Enterで決定）\n",
    "\n",
    "![表示設定](./image/表示設定.png)\n",
    "\n",
    "認証方法を選択する （カーソルキーでLogin with Googleを選択、Enterで決定）\n",
    "\n",
    "![認証設定](./image/認証設定.png)\n",
    "\n",
    "外部サイトに飛ぼうとするので開くで進む\n",
    "\n",
    "![認証ページを開く](./image/認証ページを開く.png)\n",
    "\n",
    "ログインするGoogleアカウントを選択　（使いたいアカウントをクリック）\n",
    "\n",
    "![アカウントを選択](./image/アカウントを選択.png)\n",
    "\n",
    "ログインで進む\n",
    "\n",
    "![ログイン](./image/ログイン.png)\n",
    "\n",
    "サイトにアクセスできないない表示しているときのURLをコピーする\n",
    "\n",
    "![認証完了通知URLコピー](./image/認証完了通知URLコピー.png)\n",
    "\n",
    "下のセルを実行し、出てくるFormにコピーしたURLをペーストする"
   ]
  },
  {
   "cell_type": "code",
   "execution_count": 2,
   "metadata": {
    "colab": {
     "base_uri": "https://localhost:8080/"
    },
    "executionInfo": {
     "elapsed": 7034,
     "status": "ok",
     "timestamp": 1752585062670,
     "user": {
      "displayName": "Yutaka Nishizaki (steelpipe)",
      "userId": "17433954809162146205"
     },
     "user_tz": -540
    },
    "id": "2d894370",
    "outputId": "168e03a8-dfd0-41f6-fbf2-88fb1aa698be"
   },
   "outputs": [],
   "source": [
    "user_input = input(\"コピーしたURLをペーストしてください: \")\n",
    "!curl -sL \"{user_input}\" > /dev/null"
   ]
  },
  {
   "cell_type": "markdown",
   "metadata": {},
   "source": [
    "すべてを実行をクリック\n",
    "\n",
    "![すべてを実行](./image/全てを実行.png)\n",
    "\n",
    "Python環境...を選択\n",
    "\n",
    "![Python環境](./image/Python環境.png)\n",
    "\n",
    "Global環境を選択\n",
    "\n",
    "![Global環境](./image/Global環境.png)\n",
    "\n",
    "URLをフォームにペースト\n",
    "\n",
    "![URLをペースト](./image/URLをペースト.png)\n",
    "\n",
    "認証完了\n",
    "\n",
    "![認証完了](./image/認証完了.png)"
   ]
  }
 ],
 "metadata": {
  "colab": {
   "authorship_tag": "ABX9TyOt8N+atobuH1DcRzuTyu/Q",
   "provenance": []
  },
  "kernelspec": {
   "display_name": "Python 3",
   "name": "python3"
  },
  "language_info": {
   "codemirror_mode": {
    "name": "ipython",
    "version": 3
   },
   "file_extension": ".py",
   "mimetype": "text/x-python",
   "name": "python",
   "nbconvert_exporter": "python",
   "pygments_lexer": "ipython3",
   "version": "3.12.1"
  }
 },
 "nbformat": 4,
 "nbformat_minor": 0
}
